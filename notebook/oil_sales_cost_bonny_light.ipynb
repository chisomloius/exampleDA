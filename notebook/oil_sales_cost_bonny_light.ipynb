{
 "cells": [
  {
   "cell_type": "markdown",
   "metadata": {},
   "source": [
    "<a href=\"https://oilprice.com/\"><img src = \"../images/bonnylight.jpg\" width = 400, align = \"center\"></a>\n",
    "# <center>OIL PRICES OF MAJOR CRUDE OIL BENCHMARK(2003 - 2020)</center>\n",
    "\n",
    "#### About this Notebook\n",
    "In this notebook, we would use web scrapping technique to extarct the prices of the top three crude oil, i.ie bonny-light benchamarks from 2003 till 2020 for the world. The data is scrapped from different sources including:\n",
    "1. [WIKIPEDIA source](https://en.wikipedia.org/wiki/List_of_countries_by_oil_production)\n",
    "2. [OPEC source](https://en.wikipedia.org/wiki/List_of_countries_by_oil_production)\n",
    "3. [Other source]()\n",
    "4. [CBN source](https://www.cbn.gov.ng/rates/crudeoil.asp)\n",
    "5. [Quandl sources](https://www.quandl.com/api/v3/datasets/OPEC/ORB.csv)\n",
    "\n",
    "The dataset is then cleaned, presented in various visualisation patterns using different visualisation libraries and tools before exporting into a readable format for references (which can be used to build simple-regression or multi-regression models using machine learning techniques)."
   ]
  },
  {
   "cell_type": "markdown",
   "metadata": {},
   "source": [
    "### TASK(S)\n",
    "1. EXTRACT THE PRIMARY SELLING PRICE **BRENT CRUDE** FOR THE PERIOD (2000 -  2020)\n",
    "2. EXTARCT THE PRIMARY SELLING PRICE  **WESTERN TEXAS INTERMIDATE [WTI]**  FOR THE PERIOD (2000 – 2020)\n",
    "3. EXTARCT THE PRIMARY SELLING PRICE FOR **BONNY LIGHT** FOR THE PERIOD (2000 -  2020)\n",
    "4. COMBINE THEM FIGURES INTO A **READBLE FORMAT**"
   ]
  },
  {
   "cell_type": "markdown",
   "metadata": {},
   "source": [
    "### Import dependencies"
   ]
  },
  {
   "cell_type": "code",
   "execution_count": 1,
   "metadata": {},
   "outputs": [],
   "source": [
    "%matplotlib inline\n",
    "from datetime import datetime, timedelta\n",
    "import itertools # \n",
    "import matplotlib as mpl #\n",
    "import matplotlib.pyplot as plt #\n",
    "import matplotlib.dates as mpl_dates\n",
    "import numpy as np # imports numpy library\n",
    "import pandas as pd #imports pandas library\n",
    "import json # imports json library"
   ]
  },
  {
   "cell_type": "markdown",
   "metadata": {},
   "source": [
    "### Import general price dataset"
   ]
  },
  {
   "cell_type": "code",
   "execution_count": 2,
   "metadata": {},
   "outputs": [
    {
     "data": {
      "text/html": [
       "<div>\n",
       "<style scoped>\n",
       "    .dataframe tbody tr th:only-of-type {\n",
       "        vertical-align: middle;\n",
       "    }\n",
       "\n",
       "    .dataframe tbody tr th {\n",
       "        vertical-align: top;\n",
       "    }\n",
       "\n",
       "    .dataframe thead th {\n",
       "        text-align: right;\n",
       "    }\n",
       "</style>\n",
       "<table border=\"1\" class=\"dataframe\">\n",
       "  <thead>\n",
       "    <tr style=\"text-align: right;\">\n",
       "      <th></th>\n",
       "      <th>Date</th>\n",
       "      <th>Value</th>\n",
       "    </tr>\n",
       "  </thead>\n",
       "  <tbody>\n",
       "    <tr>\n",
       "      <th>4667</th>\n",
       "      <td>2003-01-08</td>\n",
       "      <td>28.86</td>\n",
       "    </tr>\n",
       "    <tr>\n",
       "      <th>4668</th>\n",
       "      <td>2003-01-07</td>\n",
       "      <td>29.72</td>\n",
       "    </tr>\n",
       "    <tr>\n",
       "      <th>4669</th>\n",
       "      <td>2003-01-06</td>\n",
       "      <td>30.71</td>\n",
       "    </tr>\n",
       "    <tr>\n",
       "      <th>4670</th>\n",
       "      <td>2003-01-03</td>\n",
       "      <td>30.83</td>\n",
       "    </tr>\n",
       "    <tr>\n",
       "      <th>4671</th>\n",
       "      <td>2003-01-02</td>\n",
       "      <td>30.05</td>\n",
       "    </tr>\n",
       "  </tbody>\n",
       "</table>\n",
       "</div>"
      ],
      "text/plain": [
       "            Date  Value\n",
       "4667  2003-01-08  28.86\n",
       "4668  2003-01-07  29.72\n",
       "4669  2003-01-06  30.71\n",
       "4670  2003-01-03  30.83\n",
       "4671  2003-01-02  30.05"
      ]
     },
     "execution_count": 2,
     "metadata": {},
     "output_type": "execute_result"
    }
   ],
   "source": [
    "# General Price of crude from 2003 - 2020\n",
    "opec_price_df = pd.read_csv('https://www.quandl.com/api/v3/datasets/OPEC/ORB.csv')\n",
    "opec_price_df.tail(5)"
   ]
  },
  {
   "cell_type": "code",
   "execution_count": 3,
   "metadata": {},
   "outputs": [
    {
     "data": {
      "text/html": [
       "<div>\n",
       "<style scoped>\n",
       "    .dataframe tbody tr th:only-of-type {\n",
       "        vertical-align: middle;\n",
       "    }\n",
       "\n",
       "    .dataframe tbody tr th {\n",
       "        vertical-align: top;\n",
       "    }\n",
       "\n",
       "    .dataframe thead th {\n",
       "        text-align: right;\n",
       "    }\n",
       "</style>\n",
       "<table border=\"1\" class=\"dataframe\">\n",
       "  <thead>\n",
       "    <tr style=\"text-align: right;\">\n",
       "      <th></th>\n",
       "      <th>Date</th>\n",
       "      <th>Value</th>\n",
       "    </tr>\n",
       "  </thead>\n",
       "  <tbody>\n",
       "    <tr>\n",
       "      <th>0</th>\n",
       "      <td>2003-01-02</td>\n",
       "      <td>30.05</td>\n",
       "    </tr>\n",
       "    <tr>\n",
       "      <th>1</th>\n",
       "      <td>2003-01-03</td>\n",
       "      <td>30.83</td>\n",
       "    </tr>\n",
       "    <tr>\n",
       "      <th>2</th>\n",
       "      <td>2003-01-06</td>\n",
       "      <td>30.71</td>\n",
       "    </tr>\n",
       "    <tr>\n",
       "      <th>3</th>\n",
       "      <td>2003-01-07</td>\n",
       "      <td>29.72</td>\n",
       "    </tr>\n",
       "    <tr>\n",
       "      <th>4</th>\n",
       "      <td>2003-01-08</td>\n",
       "      <td>28.86</td>\n",
       "    </tr>\n",
       "    <tr>\n",
       "      <th>...</th>\n",
       "      <td>...</td>\n",
       "      <td>...</td>\n",
       "    </tr>\n",
       "    <tr>\n",
       "      <th>4667</th>\n",
       "      <td>2021-02-05</td>\n",
       "      <td>58.92</td>\n",
       "    </tr>\n",
       "    <tr>\n",
       "      <th>4668</th>\n",
       "      <td>2021-02-08</td>\n",
       "      <td>59.58</td>\n",
       "    </tr>\n",
       "    <tr>\n",
       "      <th>4669</th>\n",
       "      <td>2021-02-09</td>\n",
       "      <td>60.28</td>\n",
       "    </tr>\n",
       "    <tr>\n",
       "      <th>4670</th>\n",
       "      <td>2021-02-10</td>\n",
       "      <td>60.45</td>\n",
       "    </tr>\n",
       "    <tr>\n",
       "      <th>4671</th>\n",
       "      <td>2021-02-11</td>\n",
       "      <td>60.54</td>\n",
       "    </tr>\n",
       "  </tbody>\n",
       "</table>\n",
       "<p>4672 rows × 2 columns</p>\n",
       "</div>"
      ],
      "text/plain": [
       "            Date  Value\n",
       "0     2003-01-02  30.05\n",
       "1     2003-01-03  30.83\n",
       "2     2003-01-06  30.71\n",
       "3     2003-01-07  29.72\n",
       "4     2003-01-08  28.86\n",
       "...          ...    ...\n",
       "4667  2021-02-05  58.92\n",
       "4668  2021-02-08  59.58\n",
       "4669  2021-02-09  60.28\n",
       "4670  2021-02-10  60.45\n",
       "4671  2021-02-11  60.54\n",
       "\n",
       "[4672 rows x 2 columns]"
      ]
     },
     "execution_count": 3,
     "metadata": {},
     "output_type": "execute_result"
    }
   ],
   "source": [
    "#since we notice it is displaying from the most recent to the former\n",
    "#let reverse the order of the dataframe (opec_price_df)\n",
    "rev_opec_price_df=opec_price_df.reindex(index=opec_price_df.index[::-1])\n",
    "rev_opec_price_df\n",
    "\n",
    "#then reorder the dataframe\n",
    "rev_opec_price_df = rev_opec_price_df.reset_index(drop=True)\n",
    "rev_opec_price_df"
   ]
  },
  {
   "cell_type": "code",
   "execution_count": 4,
   "metadata": {},
   "outputs": [
    {
     "data": {
      "text/html": [
       "<div>\n",
       "<style scoped>\n",
       "    .dataframe tbody tr th:only-of-type {\n",
       "        vertical-align: middle;\n",
       "    }\n",
       "\n",
       "    .dataframe tbody tr th {\n",
       "        vertical-align: top;\n",
       "    }\n",
       "\n",
       "    .dataframe thead th {\n",
       "        text-align: right;\n",
       "    }\n",
       "</style>\n",
       "<table border=\"1\" class=\"dataframe\">\n",
       "  <thead>\n",
       "    <tr style=\"text-align: right;\">\n",
       "      <th></th>\n",
       "      <th>Date(YY/MM/DD)</th>\n",
       "      <th>Price($)</th>\n",
       "    </tr>\n",
       "  </thead>\n",
       "  <tbody>\n",
       "    <tr>\n",
       "      <th>0</th>\n",
       "      <td>2003-01-02</td>\n",
       "      <td>30.05</td>\n",
       "    </tr>\n",
       "    <tr>\n",
       "      <th>1</th>\n",
       "      <td>2003-01-03</td>\n",
       "      <td>30.83</td>\n",
       "    </tr>\n",
       "  </tbody>\n",
       "</table>\n",
       "</div>"
      ],
      "text/plain": [
       "  Date(YY/MM/DD)  Price($)\n",
       "0     2003-01-02     30.05\n",
       "1     2003-01-03     30.83"
      ]
     },
     "execution_count": 4,
     "metadata": {},
     "output_type": "execute_result"
    }
   ],
   "source": [
    "#rename the column of the dataframe of the (rev_opec_price_df)\n",
    "rev_opec_price_df = rev_opec_price_df.rename(columns={\"Date\": \"Date(YY/MM/DD)\", \"Value\":\"Price($)\"} )\n",
    "rev_opec_price_df.head(2)"
   ]
  },
  {
   "cell_type": "markdown",
   "metadata": {},
   "source": [
    "### Import bonny crude price (daily, weekly, monthly, yearly)"
   ]
  },
  {
   "cell_type": "code",
   "execution_count": 121,
   "metadata": {},
   "outputs": [
    {
     "data": {
      "text/html": [
       "<div>\n",
       "<style scoped>\n",
       "    .dataframe tbody tr th:only-of-type {\n",
       "        vertical-align: middle;\n",
       "    }\n",
       "\n",
       "    .dataframe tbody tr th {\n",
       "        vertical-align: top;\n",
       "    }\n",
       "\n",
       "    .dataframe thead th {\n",
       "        text-align: right;\n",
       "    }\n",
       "</style>\n",
       "<table border=\"1\" class=\"dataframe\">\n",
       "  <thead>\n",
       "    <tr style=\"text-align: right;\">\n",
       "      <th></th>\n",
       "      <th>Year</th>\n",
       "      <th>Month</th>\n",
       "      <th>Crude Oil Price</th>\n",
       "      <th>Production</th>\n",
       "      <th>Crude Oil Export</th>\n",
       "    </tr>\n",
       "  </thead>\n",
       "  <tbody>\n",
       "    <tr>\n",
       "      <th>2006</th>\n",
       "      <td>1</td>\n",
       "      <td>63.85</td>\n",
       "      <td>2.59</td>\n",
       "      <td>2.14</td>\n",
       "      <td>NaN</td>\n",
       "    </tr>\n",
       "    <tr>\n",
       "      <th>2006</th>\n",
       "      <td>2</td>\n",
       "      <td>61.33</td>\n",
       "      <td>2.47</td>\n",
       "      <td>2.02</td>\n",
       "      <td>NaN</td>\n",
       "    </tr>\n",
       "  </tbody>\n",
       "</table>\n",
       "</div>"
      ],
      "text/plain": [
       "      Year  Month  Crude Oil Price  Production  Crude Oil Export\n",
       "2006     1  63.85             2.59        2.14               NaN\n",
       "2006     2  61.33             2.47        2.02               NaN"
      ]
     },
     "execution_count": 121,
     "metadata": {},
     "output_type": "execute_result"
    }
   ],
   "source": [
    "#Import the price of Brent from 2003 -2020\n",
    "bonny_price_df = pd.read_csv('..\\data\\BonnyCrudeOilProdPrice09022021.csv')\n",
    "#display the heading of the record \n",
    "bonny_price_df.head(2)"
   ]
  },
  {
   "cell_type": "code",
   "execution_count": 122,
   "metadata": {},
   "outputs": [
    {
     "name": "stdout",
     "output_type": "stream",
     "text": [
      "      Date(MM)  Price($)  Production(mmbbl/d)  Crude Oil Export(mmbbl/d)  \\\n",
      "2006         1     63.85                 2.59                       2.14   \n",
      "2006         2     61.33                 2.47                       2.02   \n",
      "\n",
      "      Excess(mmbbl/d)  \n",
      "2006              NaN  \n",
      "2006              NaN  \n"
     ]
    }
   ],
   "source": [
    "# Rename Columns for each of the brent Price records\n",
    "bonny_price_df2=bonny_price_df.rename(columns={\"Year\": \"Date(MM)\", \"Month\":\"Price($)\",\n",
    "                                                \"Crude Oil Price\": \"Production(mmbbl/d)\", \"Production\": \"Crude Oil Export(mmbbl/d)\", \n",
    "                                                \"Crude Oil Export\": \"Excess(mmbbl/d)\"})\n",
    "print(bonny_price_df2.head(2))"
   ]
  },
  {
   "cell_type": "code",
   "execution_count": 123,
   "metadata": {},
   "outputs": [],
   "source": [
    "# reset the index columns\n",
    "bonny_price_df2=bonny_price_df2.rename_axis('Date(YY)').reset_index()"
   ]
  },
  {
   "cell_type": "code",
   "execution_count": 124,
   "metadata": {},
   "outputs": [
    {
     "data": {
      "text/html": [
       "<div>\n",
       "<style scoped>\n",
       "    .dataframe tbody tr th:only-of-type {\n",
       "        vertical-align: middle;\n",
       "    }\n",
       "\n",
       "    .dataframe tbody tr th {\n",
       "        vertical-align: top;\n",
       "    }\n",
       "\n",
       "    .dataframe thead th {\n",
       "        text-align: right;\n",
       "    }\n",
       "</style>\n",
       "<table border=\"1\" class=\"dataframe\">\n",
       "  <thead>\n",
       "    <tr style=\"text-align: right;\">\n",
       "      <th></th>\n",
       "      <th>Date(YY)</th>\n",
       "      <th>Date(MM)</th>\n",
       "      <th>Price($)</th>\n",
       "      <th>Production(mmbbl/d)</th>\n",
       "      <th>Crude Oil Export(mmbbl/d)</th>\n",
       "      <th>Excess(mmbbl/d)</th>\n",
       "    </tr>\n",
       "  </thead>\n",
       "  <tbody>\n",
       "    <tr>\n",
       "      <th>0</th>\n",
       "      <td>2006</td>\n",
       "      <td>1</td>\n",
       "      <td>63.85</td>\n",
       "      <td>2.59</td>\n",
       "      <td>2.14</td>\n",
       "      <td>NaN</td>\n",
       "    </tr>\n",
       "    <tr>\n",
       "      <th>1</th>\n",
       "      <td>2006</td>\n",
       "      <td>2</td>\n",
       "      <td>61.33</td>\n",
       "      <td>2.47</td>\n",
       "      <td>2.02</td>\n",
       "      <td>NaN</td>\n",
       "    </tr>\n",
       "    <tr>\n",
       "      <th>2</th>\n",
       "      <td>2006</td>\n",
       "      <td>3</td>\n",
       "      <td>65.00</td>\n",
       "      <td>2.25</td>\n",
       "      <td>1.80</td>\n",
       "      <td>NaN</td>\n",
       "    </tr>\n",
       "    <tr>\n",
       "      <th>3</th>\n",
       "      <td>2006</td>\n",
       "      <td>4</td>\n",
       "      <td>72.09</td>\n",
       "      <td>2.32</td>\n",
       "      <td>1.87</td>\n",
       "      <td>NaN</td>\n",
       "    </tr>\n",
       "    <tr>\n",
       "      <th>4</th>\n",
       "      <td>2006</td>\n",
       "      <td>5</td>\n",
       "      <td>71.18</td>\n",
       "      <td>2.28</td>\n",
       "      <td>1.83</td>\n",
       "      <td>NaN</td>\n",
       "    </tr>\n",
       "  </tbody>\n",
       "</table>\n",
       "</div>"
      ],
      "text/plain": [
       "   Date(YY)  Date(MM)  Price($)  Production(mmbbl/d)  \\\n",
       "0      2006         1     63.85                 2.59   \n",
       "1      2006         2     61.33                 2.47   \n",
       "2      2006         3     65.00                 2.25   \n",
       "3      2006         4     72.09                 2.32   \n",
       "4      2006         5     71.18                 2.28   \n",
       "\n",
       "   Crude Oil Export(mmbbl/d)  Excess(mmbbl/d)  \n",
       "0                       2.14              NaN  \n",
       "1                       2.02              NaN  \n",
       "2                       1.80              NaN  \n",
       "3                       1.87              NaN  \n",
       "4                       1.83              NaN  "
      ]
     },
     "execution_count": 124,
     "metadata": {},
     "output_type": "execute_result"
    }
   ],
   "source": [
    "bonny_price_df2.head()"
   ]
  },
  {
   "cell_type": "code",
   "execution_count": 126,
   "metadata": {},
   "outputs": [],
   "source": [
    "# combine the first two datesreset_index\n",
    "bonny_price_df2['Date(YY/MM)']=bonny_price_df2['Date(YY)'].astype(str)+'-'+bonny_price_df2['Date(MM)'].astype(str)"
   ]
  },
  {
   "cell_type": "code",
   "execution_count": 127,
   "metadata": {},
   "outputs": [
    {
     "data": {
      "text/html": [
       "<div>\n",
       "<style scoped>\n",
       "    .dataframe tbody tr th:only-of-type {\n",
       "        vertical-align: middle;\n",
       "    }\n",
       "\n",
       "    .dataframe tbody tr th {\n",
       "        vertical-align: top;\n",
       "    }\n",
       "\n",
       "    .dataframe thead th {\n",
       "        text-align: right;\n",
       "    }\n",
       "</style>\n",
       "<table border=\"1\" class=\"dataframe\">\n",
       "  <thead>\n",
       "    <tr style=\"text-align: right;\">\n",
       "      <th></th>\n",
       "      <th>Date(YY)</th>\n",
       "      <th>Date(MM)</th>\n",
       "      <th>Price($)</th>\n",
       "      <th>Production(mmbbl/d)</th>\n",
       "      <th>Crude Oil Export(mmbbl/d)</th>\n",
       "      <th>Excess(mmbbl/d)</th>\n",
       "      <th>Date(YY/MM)</th>\n",
       "    </tr>\n",
       "  </thead>\n",
       "  <tbody>\n",
       "    <tr>\n",
       "      <th>0</th>\n",
       "      <td>2006</td>\n",
       "      <td>1</td>\n",
       "      <td>63.85</td>\n",
       "      <td>2.59</td>\n",
       "      <td>2.14</td>\n",
       "      <td>NaN</td>\n",
       "      <td>2006-1</td>\n",
       "    </tr>\n",
       "    <tr>\n",
       "      <th>1</th>\n",
       "      <td>2006</td>\n",
       "      <td>2</td>\n",
       "      <td>61.33</td>\n",
       "      <td>2.47</td>\n",
       "      <td>2.02</td>\n",
       "      <td>NaN</td>\n",
       "      <td>2006-2</td>\n",
       "    </tr>\n",
       "    <tr>\n",
       "      <th>2</th>\n",
       "      <td>2006</td>\n",
       "      <td>3</td>\n",
       "      <td>65.00</td>\n",
       "      <td>2.25</td>\n",
       "      <td>1.80</td>\n",
       "      <td>NaN</td>\n",
       "      <td>2006-3</td>\n",
       "    </tr>\n",
       "    <tr>\n",
       "      <th>3</th>\n",
       "      <td>2006</td>\n",
       "      <td>4</td>\n",
       "      <td>72.09</td>\n",
       "      <td>2.32</td>\n",
       "      <td>1.87</td>\n",
       "      <td>NaN</td>\n",
       "      <td>2006-4</td>\n",
       "    </tr>\n",
       "    <tr>\n",
       "      <th>4</th>\n",
       "      <td>2006</td>\n",
       "      <td>5</td>\n",
       "      <td>71.18</td>\n",
       "      <td>2.28</td>\n",
       "      <td>1.83</td>\n",
       "      <td>NaN</td>\n",
       "      <td>2006-5</td>\n",
       "    </tr>\n",
       "  </tbody>\n",
       "</table>\n",
       "</div>"
      ],
      "text/plain": [
       "   Date(YY)  Date(MM)  Price($)  Production(mmbbl/d)  \\\n",
       "0      2006         1     63.85                 2.59   \n",
       "1      2006         2     61.33                 2.47   \n",
       "2      2006         3     65.00                 2.25   \n",
       "3      2006         4     72.09                 2.32   \n",
       "4      2006         5     71.18                 2.28   \n",
       "\n",
       "   Crude Oil Export(mmbbl/d)  Excess(mmbbl/d) Date(YY/MM)  \n",
       "0                       2.14              NaN      2006-1  \n",
       "1                       2.02              NaN      2006-2  \n",
       "2                       1.80              NaN      2006-3  \n",
       "3                       1.87              NaN      2006-4  \n",
       "4                       1.83              NaN      2006-5  "
      ]
     },
     "execution_count": 127,
     "metadata": {},
     "output_type": "execute_result"
    }
   ],
   "source": [
    "bonny_price_df2.head()"
   ]
  },
  {
   "cell_type": "code",
   "execution_count": 129,
   "metadata": {},
   "outputs": [
    {
     "data": {
      "text/html": [
       "<div>\n",
       "<style scoped>\n",
       "    .dataframe tbody tr th:only-of-type {\n",
       "        vertical-align: middle;\n",
       "    }\n",
       "\n",
       "    .dataframe tbody tr th {\n",
       "        vertical-align: top;\n",
       "    }\n",
       "\n",
       "    .dataframe thead th {\n",
       "        text-align: right;\n",
       "    }\n",
       "</style>\n",
       "<table border=\"1\" class=\"dataframe\">\n",
       "  <thead>\n",
       "    <tr style=\"text-align: right;\">\n",
       "      <th></th>\n",
       "      <th>Price($)</th>\n",
       "      <th>Date(YY/MM)</th>\n",
       "    </tr>\n",
       "  </thead>\n",
       "  <tbody>\n",
       "    <tr>\n",
       "      <th>0</th>\n",
       "      <td>63.85</td>\n",
       "      <td>2006-1</td>\n",
       "    </tr>\n",
       "    <tr>\n",
       "      <th>1</th>\n",
       "      <td>61.33</td>\n",
       "      <td>2006-2</td>\n",
       "    </tr>\n",
       "    <tr>\n",
       "      <th>2</th>\n",
       "      <td>65.00</td>\n",
       "      <td>2006-3</td>\n",
       "    </tr>\n",
       "    <tr>\n",
       "      <th>3</th>\n",
       "      <td>72.09</td>\n",
       "      <td>2006-4</td>\n",
       "    </tr>\n",
       "    <tr>\n",
       "      <th>4</th>\n",
       "      <td>71.18</td>\n",
       "      <td>2006-5</td>\n",
       "    </tr>\n",
       "    <tr>\n",
       "      <th>...</th>\n",
       "      <td>...</td>\n",
       "      <td>...</td>\n",
       "    </tr>\n",
       "    <tr>\n",
       "      <th>173</th>\n",
       "      <td>40.30</td>\n",
       "      <td>2019-6</td>\n",
       "    </tr>\n",
       "    <tr>\n",
       "      <th>174</th>\n",
       "      <td>40.30</td>\n",
       "      <td>2020-6</td>\n",
       "    </tr>\n",
       "    <tr>\n",
       "      <th>175</th>\n",
       "      <td>44.10</td>\n",
       "      <td>2020-7</td>\n",
       "    </tr>\n",
       "    <tr>\n",
       "      <th>176</th>\n",
       "      <td>45.06</td>\n",
       "      <td>2020-8</td>\n",
       "    </tr>\n",
       "    <tr>\n",
       "      <th>177</th>\n",
       "      <td>40.85</td>\n",
       "      <td>2020-9</td>\n",
       "    </tr>\n",
       "  </tbody>\n",
       "</table>\n",
       "<p>178 rows × 2 columns</p>\n",
       "</div>"
      ],
      "text/plain": [
       "     Price($) Date(YY/MM)\n",
       "0       63.85      2006-1\n",
       "1       61.33      2006-2\n",
       "2       65.00      2006-3\n",
       "3       72.09      2006-4\n",
       "4       71.18      2006-5\n",
       "..        ...         ...\n",
       "173     40.30      2019-6\n",
       "174     40.30      2020-6\n",
       "175     44.10      2020-7\n",
       "176     45.06      2020-8\n",
       "177     40.85      2020-9\n",
       "\n",
       "[178 rows x 2 columns]"
      ]
     },
     "execution_count": 129,
     "metadata": {},
     "output_type": "execute_result"
    }
   ],
   "source": [
    "# Drope some columns\n",
    "bonny_price_df2.drop(['Date(YY)', 'Date(MM)', 'Production(mmbbl/d)', 'Crude Oil Export(mmbbl/d)', 'Excess(mmbbl/d)'], axis=1, inplace=True)\n",
    "bonny_price_df2"
   ]
  },
  {
   "cell_type": "markdown",
   "metadata": {},
   "source": [
    "### Visualisation Summary"
   ]
  },
  {
   "cell_type": "markdown",
   "metadata": {},
   "source": [
    "#### Plots of Monthly Price of Bonny-Light Oil"
   ]
  },
  {
   "cell_type": "code",
   "execution_count": 130,
   "metadata": {},
   "outputs": [
    {
     "name": "stdout",
     "output_type": "stream",
     "text": [
      "Price($)       float64\n",
      "Date(YY/MM)     object\n",
      "dtype: object\n"
     ]
    }
   ],
   "source": [
    "# data type of daily brent\n",
    "print(bonny_price_df2.dtypes)"
   ]
  },
  {
   "cell_type": "code",
   "execution_count": 131,
   "metadata": {},
   "outputs": [],
   "source": [
    "# convert the date column to a usuable format in pandas\n",
    "\n",
    "bonny_price_df2['Date(YY/MM)']=pd.to_datetime(bonny_price_df2['Date(YY/MM)'])\n",
    "bonny_price_df2.sort_values('Date(YY/MM)', inplace=True)\n",
    "\n",
    "# assign the values to be plotted\n",
    "x=bonny_price_df2['Date(YY/MM)']\n",
    "y=bonny_price_df2['Price($)']"
   ]
  },
  {
   "cell_type": "code",
   "execution_count": 139,
   "metadata": {},
   "outputs": [
    {
     "data": {
      "image/png": "[encoded data removed]",
      "text/plain": [
       "<Figure size 432x288 with 1 Axes>"
      ]
     },
     "metadata": {},
     "output_type": "display_data"
    },
    {
     "data": {
      "text/plain": [
       "<Figure size 720x1080 with 0 Axes>"
      ]
     },
     "metadata": {},
     "output_type": "display_data"
    }
   ],
   "source": [
    "# Line Plot\n",
    "plt.style.use('fivethirtyeight')\n",
    "plt.plot_date(x, y, color='g', linestyle='solid')\n",
    "plt.xlabel('Date')\n",
    "plt.ylabel('Monthly Price($)')\n",
    "plt.title('Monthly Price of Bonny Crude')\n",
    "plt.gcf().autofmt_xdate()\n",
    "plt.tight_layout()\n",
    "plt.figure(figsize=(10, 15))\n",
    "plt.savefig(r'..\\images\\bonny_monthly.png')\n",
    "plt.show()"
   ]
  },
  {
   "cell_type": "code",
   "execution_count": 143,
   "metadata": {},
   "outputs": [
    {
     "data": {
      "image/png": "[encoded data removed]",
      "text/plain": [
       "<Figure size 432x288 with 1 Axes>"
      ]
     },
     "metadata": {},
     "output_type": "display_data"
    },
    {
     "data": {
      "text/plain": [
       "<Figure size 720x1080 with 0 Axes>"
      ]
     },
     "metadata": {},
     "output_type": "display_data"
    }
   ],
   "source": [
    "# Bar Plot\n",
    "plt.style.use('fivethirtyeight')\n",
    "plt.bar(x, y, color='b', linestyle='solid')\n",
    "plt.xlabel('Date')\n",
    "plt.ylabel('Monthly Price($)')\n",
    "plt.title('Monthly Price Price of Brent Crude')\n",
    "plt.gcf().autofmt_xdate()\n",
    "plt.tight_layout()\n",
    "plt.figure(figsize=(10, 15))\n",
    "plt.savefig(r'..\\images\\bonny_monthly-2.png')\n",
    "plt.show()"
   ]
  },
  {
   "cell_type": "code",
   "execution_count": 144,
   "metadata": {},
   "outputs": [
    {
     "data": {
      "image/png": "[encoded data removed]",
      "text/plain": [
       "<Figure size 432x288 with 1 Axes>"
      ]
     },
     "metadata": {},
     "output_type": "display_data"
    },
    {
     "data": {
      "text/plain": [
       "<Figure size 720x1080 with 0 Axes>"
      ]
     },
     "metadata": {},
     "output_type": "display_data"
    }
   ],
   "source": [
    "# Area Plot\n",
    "plt.style.use('fivethirtyeight')\n",
    "plt.stackplot(x, y, color='b', linestyle='solid')\n",
    "plt.xlabel('Date')\n",
    "plt.ylabel('Monthly Price($)')\n",
    "plt.title('Monthly Price of Brent Crude')\n",
    "plt.gcf().autofmt_xdate()\n",
    "plt.tight_layout()\n",
    "plt.figure(figsize=(10, 15))\n",
    "plt.savefig(r'..\\images\\bonny_monthly-3.png')\n",
    "plt.show()"
   ]
  },
  {
   "cell_type": "code",
   "execution_count": 145,
   "metadata": {},
   "outputs": [
    {
     "data": {
      "image/png": "[encoded data removed]",
      "text/plain": [
       "<Figure size 432x288 with 1 Axes>"
      ]
     },
     "metadata": {},
     "output_type": "display_data"
    },
    {
     "data": {
      "text/plain": [
       "<Figure size 720x1080 with 0 Axes>"
      ]
     },
     "metadata": {},
     "output_type": "display_data"
    }
   ],
   "source": [
    "# Histogram Plot with no specified bins\n",
    "plt.style.use('fivethirtyeight')\n",
    "plt.hist(y, bins= 50, edgecolor='brown', linestyle='solid')\n",
    "plt.xlabel('Prices')\n",
    "plt.ylabel('Frequency')\n",
    "plt.title('Monthly Price of Brent Crude')\n",
    "plt.tight_layout()\n",
    "plt.figure(figsize=(10, 15))\n",
    "plt.savefig(r'..\\images\\bonny_monthly-4.png')\n",
    "plt.show()"
   ]
  },
  {
   "cell_type": "code",
   "execution_count": 146,
   "metadata": {},
   "outputs": [
    {
     "data": {
      "image/png": "[encoded data removed]",
      "text/plain": [
       "<Figure size 432x288 with 1 Axes>"
      ]
     },
     "metadata": {},
     "output_type": "display_data"
    },
    {
     "data": {
      "text/plain": [
       "<Figure size 720x1080 with 0 Axes>"
      ]
     },
     "metadata": {},
     "output_type": "display_data"
    }
   ],
   "source": [
    "# Histogram Plot with specified bins\n",
    "plt.style.use('fivethirtyeight')\n",
    "bins=[20, 40, 60, 80, 100 ]\n",
    "plt.hist(y, bins=bins, edgecolor='brown', linestyle='solid', log=True)\n",
    "\n",
    "median_price=50\n",
    "color=\"#fc4f30\"\n",
    "plt.axvline(median_price, color=color, label='Median Price')\n",
    "\n",
    "plt.xlabel('Prices')\n",
    "plt.ylabel('Frequency')\n",
    "plt.title('Monthly Price of Brent Crude')\n",
    "plt.tight_layout()\n",
    "plt.figure(figsize=(10, 15))\n",
    "plt.savefig(r'..\\images\\bonny_monthly-5.png')\n",
    "plt.show()"
   ]
  },
  {
   "cell_type": "code",
   "execution_count": 148,
   "metadata": {},
   "outputs": [
    {
     "data": {
      "image/png": "[encoded data removed]",
      "text/plain": [
       "<Figure size 576x396 with 2 Axes>"
      ]
     },
     "metadata": {},
     "output_type": "display_data"
    },
    {
     "data": {
      "text/plain": [
       "<Figure size 720x1080 with 0 Axes>"
      ]
     },
     "metadata": {},
     "output_type": "display_data"
    }
   ],
   "source": [
    "# Scatter Plot\n",
    "plt.style.use('seaborn')\n",
    "plt.scatter(x, y, edgecolor='black', alpha=0.75, \n",
    "            cmap='Greens', linewidth=1, marker='X')\n",
    "\n",
    "cbar=plt.colorbar()\n",
    "cbar.set_label('Prices')\n",
    "\n",
    "plt.xscale('log')\n",
    "plt.yscale('log')\n",
    "plt.xlabel('Date')\n",
    "plt.ylabel('Prices($)')\n",
    "plt.title('Monthly Price of Brent Crude')\n",
    "plt.tight_layout()\n",
    "plt.figure(figsize=(10, 15))\n",
    "plt.savefig(r'..\\images\\bonny_monthly-6.png')\n",
    "plt.show()"
   ]
  },
  {
   "cell_type": "markdown",
   "metadata": {},
   "source": [
    "### Mathematical Operations"
   ]
  },
  {
   "cell_type": "code",
   "execution_count": 150,
   "metadata": {},
   "outputs": [
    {
     "data": {
      "text/html": [
       "<div>\n",
       "<style scoped>\n",
       "    .dataframe tbody tr th:only-of-type {\n",
       "        vertical-align: middle;\n",
       "    }\n",
       "\n",
       "    .dataframe tbody tr th {\n",
       "        vertical-align: top;\n",
       "    }\n",
       "\n",
       "    .dataframe thead th {\n",
       "        text-align: right;\n",
       "    }\n",
       "</style>\n",
       "<table border=\"1\" class=\"dataframe\">\n",
       "  <thead>\n",
       "    <tr style=\"text-align: right;\">\n",
       "      <th></th>\n",
       "      <th>Price($)</th>\n",
       "    </tr>\n",
       "  </thead>\n",
       "  <tbody>\n",
       "    <tr>\n",
       "      <th>count</th>\n",
       "      <td>178.000000</td>\n",
       "    </tr>\n",
       "    <tr>\n",
       "      <th>mean</th>\n",
       "      <td>77.498371</td>\n",
       "    </tr>\n",
       "    <tr>\n",
       "      <th>std</th>\n",
       "      <td>26.766663</td>\n",
       "    </tr>\n",
       "    <tr>\n",
       "      <th>min</th>\n",
       "      <td>14.280000</td>\n",
       "    </tr>\n",
       "    <tr>\n",
       "      <th>25%</th>\n",
       "      <td>57.610000</td>\n",
       "    </tr>\n",
       "    <tr>\n",
       "      <th>50%</th>\n",
       "      <td>73.315000</td>\n",
       "    </tr>\n",
       "    <tr>\n",
       "      <th>75%</th>\n",
       "      <td>105.317500</td>\n",
       "    </tr>\n",
       "    <tr>\n",
       "      <th>max</th>\n",
       "      <td>138.740000</td>\n",
       "    </tr>\n",
       "  </tbody>\n",
       "</table>\n",
       "</div>"
      ],
      "text/plain": [
       "         Price($)\n",
       "count  178.000000\n",
       "mean    77.498371\n",
       "std     26.766663\n",
       "min     14.280000\n",
       "25%     57.610000\n",
       "50%     73.315000\n",
       "75%    105.317500\n",
       "max    138.740000"
      ]
     },
     "execution_count": 150,
     "metadata": {},
     "output_type": "execute_result"
    }
   ],
   "source": [
    "# describe the daily dataset\n",
    "bonny_price_df2.describe()"
   ]
  },
  {
   "cell_type": "code",
   "execution_count": 151,
   "metadata": {},
   "outputs": [
    {
     "data": {
      "text/plain": [
       "77.49837078651683"
      ]
     },
     "execution_count": 151,
     "metadata": {},
     "output_type": "execute_result"
    }
   ],
   "source": [
    "# Mean of Monthly Price of Brent Crude\n",
    "bonny_price_df2[\"Price($)\"].mean()"
   ]
  },
  {
   "cell_type": "code",
   "execution_count": 142,
   "metadata": {},
   "outputs": [
    {
     "name": "stdout",
     "output_type": "stream",
     "text": [
      "143.95\n",
      "9.1\n"
     ]
    }
   ],
   "source": [
    "# Max and Min Value of Daily Brent \n",
    "max_daily = brent_price_daily_df2[\"Price($)\"].max()\n",
    "print(max_daily)\n",
    "\n",
    "min_daily = brent_price_daily_df2[\"Price($)\"].min()\n",
    "print(min_daily)"
   ]
  },
  {
   "cell_type": "code",
   "execution_count": 143,
   "metadata": {},
   "outputs": [
    {
     "name": "stdout",
     "output_type": "stream",
     "text": [
      "141.07\n",
      "9.44\n"
     ]
    }
   ],
   "source": [
    "# Max and Min Value of Weekly Brent \n",
    "max_weekly = brent_price_weekly_df2[\"Price($)\"].max()\n",
    "print(max_weekly)\n",
    "\n",
    "min_weekly = brent_price_weekly_df2[\"Price($)\"].min()\n",
    "print(min_weekly)"
   ]
  },
  {
   "cell_type": "code",
   "execution_count": 144,
   "metadata": {},
   "outputs": [
    {
     "name": "stdout",
     "output_type": "stream",
     "text": [
      "132.72\n",
      "9.82\n"
     ]
    }
   ],
   "source": [
    "# Max and Min Value of Monthly Brent \n",
    "max_monthly= brent_price_monthly_df2[\"Price($)\"].max()\n",
    "print(max_monthly)\n",
    "\n",
    "min_monthly = brent_price_monthly_df2[\"Price($)\"].min()\n",
    "print(min_monthly)"
   ]
  },
  {
   "cell_type": "code",
   "execution_count": 145,
   "metadata": {},
   "outputs": [
    {
     "name": "stdout",
     "output_type": "stream",
     "text": [
      "111.63\n",
      "12.76\n"
     ]
    }
   ],
   "source": [
    "# Max and Min Value of Daily Brent \n",
    "max_yearly = brent_price_yearly_df2[\"Price($)\"].max()\n",
    "print(max_yearly)\n",
    "\n",
    "min_yearly = brent_price_yearly_df2[\"Price($)\"].min()\n",
    "print(min_yearly)"
   ]
  },
  {
   "cell_type": "markdown",
   "metadata": {},
   "source": [
    "### Inferences and Recommendation\n",
    "\n",
    "[Click here to read from this file](https://wwww.google.drive)"
   ]
  },
  {
   "cell_type": "code",
   "execution_count": null,
   "metadata": {},
   "outputs": [],
   "source": [
    "### Export cleaned dataset\n",
    "df.to_xlxs(\"../\")"
   ]
  },
  {
   "cell_type": "markdown",
   "metadata": {},
   "source": [
    "### Created by **@chisomloius**"
   ]
  }
 ],
 "metadata": {
  "kernelspec": {
   "display_name": "Python 3",
   "language": "python",
   "name": "python3"
  },
  "language_info": {
   "codemirror_mode": {
    "name": "ipython",
    "version": 3
   },
   "file_extension": ".py",
   "mimetype": "text/x-python",
   "name": "python",
   "nbconvert_exporter": "python",
   "pygments_lexer": "ipython3",
   "version": "3.8.3"
  }
 },
 "nbformat": 4,
 "nbformat_minor": 4
}
