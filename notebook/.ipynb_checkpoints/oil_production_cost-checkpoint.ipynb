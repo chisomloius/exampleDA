{
 "cells": [
  {
   "cell_type": "markdown",
   "metadata": {},
   "source": [
    "<a href=\"https://oilprice.com/\"><img src = \"../images/\" width = 400, align = \"center\"></a>\n",
    "# <center>QUANTITY CRUDE OIL PRODUCTION (1965 - 2018)</center>\n",
    "\n",
    "\n",
    "#### About this Notebook\n",
    "In this notebook, we would use web scrapping to extarct the qunatity of oil produced from 1965 through 2018 and added with a chart of the top 20 oil producing countries in the world. The data is scrapped from different sources including :\n",
    "1. [WIKIPEDIA source](https://en.wikipedia.org/wiki/List_of_countries_by_oil_production)\n",
    "2. [OPEC source](https://en.wikipedia.org/wiki/List_of_countries_by_oil_production)\n",
    "3. [STATISTA source](https://www.statista.com/statistics/265203/global-oil-production-since-in-barrels-per-day)\n",
    "4. [OECD source](https://www.oecd-ilibrary.org/energy/data/iea-oil-information-statistics_oil-data-en)\n",
    "5. [QUANDL source](https://www.quandl.com/api/v3/datasets/BP/OIL_PROD_WRLD.csv?api_key=uLQRncMrku_zW44hbgc2)\n",
    "\n",
    "\n",
    "The dataset is then cleaned, presented in various visualisation patterns using different visualisation libraries and tools before exporting into a readable format for references (which can be used to build simple-regression or multi-regression models using machine learning techniques)."
   ]
  },
  {
   "cell_type": "markdown",
   "metadata": {},
   "source": [
    "### TASK(S)\n",
    "1. EXTRACT CRUDE OIL PRODUCTION QUANITY FOR *TOP TWENTY PRODUCING COUNTRIES* WORLD FOR THE PERIOD (1965 -  2018)\n",
    "2. EXTRACT CRUDE OIL PRODUCTION QUANITY FOR *TOP TWENTY PRODUCING COMPANIES* WORLD FOR THE PERIOD (1965 -  2018)\n",
    "3. COMBINE THE DATA COLLECTED INTO A **READABLE FORMAT** FOR REFERENCE()"
   ]
  },
  {
   "cell_type": "markdown",
   "metadata": {},
   "source": [
    "**Crude oil production**\n",
    "\n",
    "It is defined as the quantities of oil extracted from the ground after the removal of inert matter or impurities. It includes crude oil, natural gas liquids (NGLs) and additives. This indicator is measured in thousand tonne of oil equivalent (toe).Crude oil is a mineral oil consisting of a mixture of hydrocarbons of natural origin, yellow to black in colour, and of variable density and viscosity. NGLs are the liquid or liquefied hydrocarbons produced in the manufacture, purification and stabilisation of natural gas. Additives are non-hydrocarbon substances added to or blended with a product to modify its properties, for example, to improve its combustion characteristics (e.g. MTBE and tetraethyl lead).Refinery production refers to the output of secondary oil products from an oil refinery."
   ]
  },
  {
   "cell_type": "markdown",
   "metadata": {},
   "source": [
    "### Import dependencies"
   ]
  },
  {
   "cell_type": "code",
   "execution_count": 30,
   "metadata": {},
   "outputs": [],
   "source": [
    "%matplotlib inline\n",
    "import itertools\n",
    "import matplotlib\n",
    "import matplotlib.pyplot as plt\n",
    "import numpy as np # imports numpy library\n",
    "import pandas as pd #imports pandas library\n",
    "import json #imports json library"
   ]
  },
  {
   "cell_type": "markdown",
   "metadata": {},
   "source": [
    "### Import datasets"
   ]
  },
  {
   "cell_type": "code",
   "execution_count": 15,
   "metadata": {},
   "outputs": [
    {
     "data": {
      "text/html": [
       "<div>\n",
       "<style scoped>\n",
       "    .dataframe tbody tr th:only-of-type {\n",
       "        vertical-align: middle;\n",
       "    }\n",
       "\n",
       "    .dataframe tbody tr th {\n",
       "        vertical-align: top;\n",
       "    }\n",
       "\n",
       "    .dataframe thead th {\n",
       "        text-align: right;\n",
       "    }\n",
       "</style>\n",
       "<table border=\"1\" class=\"dataframe\">\n",
       "  <thead>\n",
       "    <tr style=\"text-align: right;\">\n",
       "      <th></th>\n",
       "      <th>Date</th>\n",
       "      <th>Value</th>\n",
       "    </tr>\n",
       "  </thead>\n",
       "  <tbody>\n",
       "    <tr>\n",
       "      <th>52</th>\n",
       "      <td>1966-12-31</td>\n",
       "      <td>1702.215717</td>\n",
       "    </tr>\n",
       "    <tr>\n",
       "      <th>53</th>\n",
       "      <td>1965-12-31</td>\n",
       "      <td>1567.587268</td>\n",
       "    </tr>\n",
       "  </tbody>\n",
       "</table>\n",
       "</div>"
      ],
      "text/plain": [
       "          Date        Value\n",
       "52  1966-12-31  1702.215717\n",
       "53  1965-12-31  1567.587268"
      ]
     },
     "execution_count": 15,
     "metadata": {},
     "output_type": "execute_result"
    }
   ],
   "source": [
    "oil_prod_df=pd.read_csv('../data/BP-OIL_PROD_WRLD.csv')\n",
    "oil_prod_df.tail(2)"
   ]
  },
  {
   "cell_type": "markdown",
   "metadata": {},
   "source": [
    "### Data Cleaning"
   ]
  },
  {
   "cell_type": "code",
   "execution_count": 16,
   "metadata": {},
   "outputs": [
    {
     "data": {
      "text/html": [
       "<div>\n",
       "<style scoped>\n",
       "    .dataframe tbody tr th:only-of-type {\n",
       "        vertical-align: middle;\n",
       "    }\n",
       "\n",
       "    .dataframe tbody tr th {\n",
       "        vertical-align: top;\n",
       "    }\n",
       "\n",
       "    .dataframe thead th {\n",
       "        text-align: right;\n",
       "    }\n",
       "</style>\n",
       "<table border=\"1\" class=\"dataframe\">\n",
       "  <thead>\n",
       "    <tr style=\"text-align: right;\">\n",
       "      <th></th>\n",
       "      <th>Date</th>\n",
       "      <th>Value</th>\n",
       "    </tr>\n",
       "  </thead>\n",
       "  <tbody>\n",
       "    <tr>\n",
       "      <th>49</th>\n",
       "      <td>2014-12-31</td>\n",
       "      <td>4223.177081</td>\n",
       "    </tr>\n",
       "    <tr>\n",
       "      <th>50</th>\n",
       "      <td>2015-12-31</td>\n",
       "      <td>4354.823310</td>\n",
       "    </tr>\n",
       "    <tr>\n",
       "      <th>51</th>\n",
       "      <td>2016-12-31</td>\n",
       "      <td>4367.980221</td>\n",
       "    </tr>\n",
       "    <tr>\n",
       "      <th>52</th>\n",
       "      <td>2017-12-31</td>\n",
       "      <td>4379.862350</td>\n",
       "    </tr>\n",
       "    <tr>\n",
       "      <th>53</th>\n",
       "      <td>2018-12-31</td>\n",
       "      <td>4474.326494</td>\n",
       "    </tr>\n",
       "  </tbody>\n",
       "</table>\n",
       "</div>"
      ],
      "text/plain": [
       "          Date        Value\n",
       "49  2014-12-31  4223.177081\n",
       "50  2015-12-31  4354.823310\n",
       "51  2016-12-31  4367.980221\n",
       "52  2017-12-31  4379.862350\n",
       "53  2018-12-31  4474.326494"
      ]
     },
     "execution_count": 16,
     "metadata": {},
     "output_type": "execute_result"
    }
   ],
   "source": [
    "#REVERSE THE ORDER OF PRESENTATION OF THE DATES\n",
    "rev_oil_prod_df=oil_prod_df.reindex(index=oil_prod_df.index[::-1])\n",
    "rev_oil_prod_df\n",
    "\n",
    "# REORDER THE INDEX OF THE DATES\n",
    "rev_oil_prod_df=rev_oil_prod_df.reset_index(drop=True)\n",
    "rev_oil_prod_df.tail()"
   ]
  },
  {
   "cell_type": "code",
   "execution_count": 12,
   "metadata": {},
   "outputs": [
    {
     "data": {
      "text/html": [
       "<div>\n",
       "<style scoped>\n",
       "    .dataframe tbody tr th:only-of-type {\n",
       "        vertical-align: middle;\n",
       "    }\n",
       "\n",
       "    .dataframe tbody tr th {\n",
       "        vertical-align: top;\n",
       "    }\n",
       "\n",
       "    .dataframe thead th {\n",
       "        text-align: right;\n",
       "    }\n",
       "</style>\n",
       "<table border=\"1\" class=\"dataframe\">\n",
       "  <thead>\n",
       "    <tr style=\"text-align: right;\">\n",
       "      <th></th>\n",
       "      <th>Date(YY/MM/DD)</th>\n",
       "      <th>QoP(MMMbbl/yr)</th>\n",
       "    </tr>\n",
       "  </thead>\n",
       "  <tbody>\n",
       "    <tr>\n",
       "      <th>0</th>\n",
       "      <td>1965-12-31</td>\n",
       "      <td>1567.587268</td>\n",
       "    </tr>\n",
       "    <tr>\n",
       "      <th>1</th>\n",
       "      <td>1966-12-31</td>\n",
       "      <td>1702.215717</td>\n",
       "    </tr>\n",
       "    <tr>\n",
       "      <th>2</th>\n",
       "      <td>1967-12-31</td>\n",
       "      <td>1826.175476</td>\n",
       "    </tr>\n",
       "    <tr>\n",
       "      <th>3</th>\n",
       "      <td>1968-12-31</td>\n",
       "      <td>1992.260473</td>\n",
       "    </tr>\n",
       "    <tr>\n",
       "      <th>4</th>\n",
       "      <td>1969-12-31</td>\n",
       "      <td>2144.479052</td>\n",
       "    </tr>\n",
       "  </tbody>\n",
       "</table>\n",
       "</div>"
      ],
      "text/plain": [
       "  Date(YY/MM/DD)  QoP(MMMbbl/yr)\n",
       "0     1965-12-31     1567.587268\n",
       "1     1966-12-31     1702.215717\n",
       "2     1967-12-31     1826.175476\n",
       "3     1968-12-31     1992.260473\n",
       "4     1969-12-31     2144.479052"
      ]
     },
     "execution_count": 12,
     "metadata": {},
     "output_type": "execute_result"
    }
   ],
   "source": [
    "#RENAME THE COLUMNS\n",
    "rev_oil_prod_df2 =rev_oil_prod_df.rename(columns={'Date':'Date(YY/MM/DD)', 'Value':'QoP(MMMbbl/yr)'})\n",
    "rev_oil_prod_df2.head()"
   ]
  },
  {
   "cell_type": "code",
   "execution_count": 19,
   "metadata": {},
   "outputs": [
    {
     "data": {
      "text/html": [
       "<div>\n",
       "<style scoped>\n",
       "    .dataframe tbody tr th:only-of-type {\n",
       "        vertical-align: middle;\n",
       "    }\n",
       "\n",
       "    .dataframe tbody tr th {\n",
       "        vertical-align: top;\n",
       "    }\n",
       "\n",
       "    .dataframe thead th {\n",
       "        text-align: right;\n",
       "    }\n",
       "</style>\n",
       "<table border=\"1\" class=\"dataframe\">\n",
       "  <thead>\n",
       "    <tr style=\"text-align: right;\">\n",
       "      <th></th>\n",
       "      <th>Date(YY/MM/DD)</th>\n",
       "      <th>QoP(MMMbbl/yr)</th>\n",
       "    </tr>\n",
       "  </thead>\n",
       "  <tbody>\n",
       "    <tr>\n",
       "      <th>4</th>\n",
       "      <td>1969-12-31</td>\n",
       "      <td>2144.479052</td>\n",
       "    </tr>\n",
       "    <tr>\n",
       "      <th>5</th>\n",
       "      <td>1970-12-31</td>\n",
       "      <td>2358.889372</td>\n",
       "    </tr>\n",
       "    <tr>\n",
       "      <th>6</th>\n",
       "      <td>1971-12-31</td>\n",
       "      <td>2493.619063</td>\n",
       "    </tr>\n",
       "    <tr>\n",
       "      <th>7</th>\n",
       "      <td>1972-12-31</td>\n",
       "      <td>2635.423176</td>\n",
       "    </tr>\n",
       "    <tr>\n",
       "      <th>8</th>\n",
       "      <td>1973-12-31</td>\n",
       "      <td>2875.762980</td>\n",
       "    </tr>\n",
       "    <tr>\n",
       "      <th>9</th>\n",
       "      <td>1974-12-31</td>\n",
       "      <td>2882.171384</td>\n",
       "    </tr>\n",
       "    <tr>\n",
       "      <th>10</th>\n",
       "      <td>1975-12-31</td>\n",
       "      <td>2737.552412</td>\n",
       "    </tr>\n",
       "    <tr>\n",
       "      <th>11</th>\n",
       "      <td>1976-12-31</td>\n",
       "      <td>2974.260422</td>\n",
       "    </tr>\n",
       "    <tr>\n",
       "      <th>12</th>\n",
       "      <td>1977-12-31</td>\n",
       "      <td>3078.137564</td>\n",
       "    </tr>\n",
       "    <tr>\n",
       "      <th>13</th>\n",
       "      <td>1978-12-31</td>\n",
       "      <td>3106.105936</td>\n",
       "    </tr>\n",
       "    <tr>\n",
       "      <th>14</th>\n",
       "      <td>1979-12-31</td>\n",
       "      <td>3237.563678</td>\n",
       "    </tr>\n",
       "    <tr>\n",
       "      <th>15</th>\n",
       "      <td>1980-12-31</td>\n",
       "      <td>3091.091239</td>\n",
       "    </tr>\n",
       "    <tr>\n",
       "      <th>16</th>\n",
       "      <td>1981-12-31</td>\n",
       "      <td>2912.942807</td>\n",
       "    </tr>\n",
       "    <tr>\n",
       "      <th>17</th>\n",
       "      <td>1982-12-31</td>\n",
       "      <td>2797.722827</td>\n",
       "    </tr>\n",
       "    <tr>\n",
       "      <th>18</th>\n",
       "      <td>1983-12-31</td>\n",
       "      <td>2762.004488</td>\n",
       "    </tr>\n",
       "    <tr>\n",
       "      <th>19</th>\n",
       "      <td>1984-12-31</td>\n",
       "      <td>2816.120713</td>\n",
       "    </tr>\n",
       "    <tr>\n",
       "      <th>20</th>\n",
       "      <td>1985-12-31</td>\n",
       "      <td>2791.460140</td>\n",
       "    </tr>\n",
       "    <tr>\n",
       "      <th>21</th>\n",
       "      <td>1986-12-31</td>\n",
       "      <td>2929.340513</td>\n",
       "    </tr>\n",
       "    <tr>\n",
       "      <th>22</th>\n",
       "      <td>1987-12-31</td>\n",
       "      <td>2936.104079</td>\n",
       "    </tr>\n",
       "    <tr>\n",
       "      <th>23</th>\n",
       "      <td>1988-12-31</td>\n",
       "      <td>3061.595424</td>\n",
       "    </tr>\n",
       "    <tr>\n",
       "      <th>24</th>\n",
       "      <td>1989-12-31</td>\n",
       "      <td>3098.559091</td>\n",
       "    </tr>\n",
       "    <tr>\n",
       "      <th>25</th>\n",
       "      <td>1990-12-31</td>\n",
       "      <td>3157.870536</td>\n",
       "    </tr>\n",
       "    <tr>\n",
       "      <th>26</th>\n",
       "      <td>1991-12-31</td>\n",
       "      <td>3149.141733</td>\n",
       "    </tr>\n",
       "    <tr>\n",
       "      <th>27</th>\n",
       "      <td>1992-12-31</td>\n",
       "      <td>3194.769523</td>\n",
       "    </tr>\n",
       "    <tr>\n",
       "      <th>28</th>\n",
       "      <td>1993-12-31</td>\n",
       "      <td>3190.351667</td>\n",
       "    </tr>\n",
       "    <tr>\n",
       "      <th>29</th>\n",
       "      <td>1994-12-31</td>\n",
       "      <td>3234.693635</td>\n",
       "    </tr>\n",
       "    <tr>\n",
       "      <th>30</th>\n",
       "      <td>1995-12-31</td>\n",
       "      <td>3278.896126</td>\n",
       "    </tr>\n",
       "    <tr>\n",
       "      <th>31</th>\n",
       "      <td>1996-12-31</td>\n",
       "      <td>3366.294877</td>\n",
       "    </tr>\n",
       "    <tr>\n",
       "      <th>32</th>\n",
       "      <td>1997-12-31</td>\n",
       "      <td>3441.375410</td>\n",
       "    </tr>\n",
       "    <tr>\n",
       "      <th>33</th>\n",
       "      <td>1998-12-31</td>\n",
       "      <td>3528.317251</td>\n",
       "    </tr>\n",
       "    <tr>\n",
       "      <th>34</th>\n",
       "      <td>1999-12-31</td>\n",
       "      <td>3448.304749</td>\n",
       "    </tr>\n",
       "    <tr>\n",
       "      <th>35</th>\n",
       "      <td>2000-12-31</td>\n",
       "      <td>3597.391917</td>\n",
       "    </tr>\n",
       "    <tr>\n",
       "      <th>36</th>\n",
       "      <td>2001-12-31</td>\n",
       "      <td>3597.512905</td>\n",
       "    </tr>\n",
       "    <tr>\n",
       "      <th>37</th>\n",
       "      <td>2002-12-31</td>\n",
       "      <td>3554.708245</td>\n",
       "    </tr>\n",
       "    <tr>\n",
       "      <th>38</th>\n",
       "      <td>2003-12-31</td>\n",
       "      <td>3713.090233</td>\n",
       "    </tr>\n",
       "    <tr>\n",
       "      <th>39</th>\n",
       "      <td>2004-12-31</td>\n",
       "      <td>3898.152022</td>\n",
       "    </tr>\n",
       "    <tr>\n",
       "      <th>40</th>\n",
       "      <td>2005-12-31</td>\n",
       "      <td>3931.403434</td>\n",
       "    </tr>\n",
       "    <tr>\n",
       "      <th>41</th>\n",
       "      <td>2006-12-31</td>\n",
       "      <td>3965.224041</td>\n",
       "    </tr>\n",
       "    <tr>\n",
       "      <th>42</th>\n",
       "      <td>2007-12-31</td>\n",
       "      <td>3956.556511</td>\n",
       "    </tr>\n",
       "    <tr>\n",
       "      <th>43</th>\n",
       "      <td>2008-12-31</td>\n",
       "      <td>3998.652512</td>\n",
       "    </tr>\n",
       "    <tr>\n",
       "      <th>44</th>\n",
       "      <td>2009-12-31</td>\n",
       "      <td>3897.816805</td>\n",
       "    </tr>\n",
       "    <tr>\n",
       "      <th>45</th>\n",
       "      <td>2010-12-31</td>\n",
       "      <td>3976.885379</td>\n",
       "    </tr>\n",
       "    <tr>\n",
       "      <th>46</th>\n",
       "      <td>2011-12-31</td>\n",
       "      <td>4008.035311</td>\n",
       "    </tr>\n",
       "    <tr>\n",
       "      <th>47</th>\n",
       "      <td>2012-12-31</td>\n",
       "      <td>4120.291054</td>\n",
       "    </tr>\n",
       "    <tr>\n",
       "      <th>48</th>\n",
       "      <td>2013-12-31</td>\n",
       "      <td>4128.500818</td>\n",
       "    </tr>\n",
       "    <tr>\n",
       "      <th>49</th>\n",
       "      <td>2014-12-31</td>\n",
       "      <td>4223.177081</td>\n",
       "    </tr>\n",
       "    <tr>\n",
       "      <th>50</th>\n",
       "      <td>2015-12-31</td>\n",
       "      <td>4354.823310</td>\n",
       "    </tr>\n",
       "    <tr>\n",
       "      <th>51</th>\n",
       "      <td>2016-12-31</td>\n",
       "      <td>4367.980221</td>\n",
       "    </tr>\n",
       "    <tr>\n",
       "      <th>52</th>\n",
       "      <td>2017-12-31</td>\n",
       "      <td>4379.862350</td>\n",
       "    </tr>\n",
       "    <tr>\n",
       "      <th>53</th>\n",
       "      <td>2018-12-31</td>\n",
       "      <td>4474.326494</td>\n",
       "    </tr>\n",
       "  </tbody>\n",
       "</table>\n",
       "</div>"
      ],
      "text/plain": [
       "   Date(YY/MM/DD)  QoP(MMMbbl/yr)\n",
       "4      1969-12-31     2144.479052\n",
       "5      1970-12-31     2358.889372\n",
       "6      1971-12-31     2493.619063\n",
       "7      1972-12-31     2635.423176\n",
       "8      1973-12-31     2875.762980\n",
       "9      1974-12-31     2882.171384\n",
       "10     1975-12-31     2737.552412\n",
       "11     1976-12-31     2974.260422\n",
       "12     1977-12-31     3078.137564\n",
       "13     1978-12-31     3106.105936\n",
       "14     1979-12-31     3237.563678\n",
       "15     1980-12-31     3091.091239\n",
       "16     1981-12-31     2912.942807\n",
       "17     1982-12-31     2797.722827\n",
       "18     1983-12-31     2762.004488\n",
       "19     1984-12-31     2816.120713\n",
       "20     1985-12-31     2791.460140\n",
       "21     1986-12-31     2929.340513\n",
       "22     1987-12-31     2936.104079\n",
       "23     1988-12-31     3061.595424\n",
       "24     1989-12-31     3098.559091\n",
       "25     1990-12-31     3157.870536\n",
       "26     1991-12-31     3149.141733\n",
       "27     1992-12-31     3194.769523\n",
       "28     1993-12-31     3190.351667\n",
       "29     1994-12-31     3234.693635\n",
       "30     1995-12-31     3278.896126\n",
       "31     1996-12-31     3366.294877\n",
       "32     1997-12-31     3441.375410\n",
       "33     1998-12-31     3528.317251\n",
       "34     1999-12-31     3448.304749\n",
       "35     2000-12-31     3597.391917\n",
       "36     2001-12-31     3597.512905\n",
       "37     2002-12-31     3554.708245\n",
       "38     2003-12-31     3713.090233\n",
       "39     2004-12-31     3898.152022\n",
       "40     2005-12-31     3931.403434\n",
       "41     2006-12-31     3965.224041\n",
       "42     2007-12-31     3956.556511\n",
       "43     2008-12-31     3998.652512\n",
       "44     2009-12-31     3897.816805\n",
       "45     2010-12-31     3976.885379\n",
       "46     2011-12-31     4008.035311\n",
       "47     2012-12-31     4120.291054\n",
       "48     2013-12-31     4128.500818\n",
       "49     2014-12-31     4223.177081\n",
       "50     2015-12-31     4354.823310\n",
       "51     2016-12-31     4367.980221\n",
       "52     2017-12-31     4379.862350\n",
       "53     2018-12-31     4474.326494"
      ]
     },
     "execution_count": 19,
     "metadata": {},
     "output_type": "execute_result"
    }
   ],
   "source": [
    "#Lookup Qunatity of Production greater than 2,000MMMbbl/yr\n",
    "rev_oil_prod_df2[rev_oil_prod_df2['QoP(MMMbbl/yr)'] >= 2000]"
   ]
  },
  {
   "cell_type": "code",
   "execution_count": 21,
   "metadata": {},
   "outputs": [
    {
     "data": {
      "text/html": [
       "<div>\n",
       "<style scoped>\n",
       "    .dataframe tbody tr th:only-of-type {\n",
       "        vertical-align: middle;\n",
       "    }\n",
       "\n",
       "    .dataframe tbody tr th {\n",
       "        vertical-align: top;\n",
       "    }\n",
       "\n",
       "    .dataframe thead th {\n",
       "        text-align: right;\n",
       "    }\n",
       "</style>\n",
       "<table border=\"1\" class=\"dataframe\">\n",
       "  <thead>\n",
       "    <tr style=\"text-align: right;\">\n",
       "      <th></th>\n",
       "      <th>Date(YY/MM/DD)</th>\n",
       "      <th>QoP(MMMbbl/yr)</th>\n",
       "    </tr>\n",
       "  </thead>\n",
       "  <tbody>\n",
       "    <tr>\n",
       "      <th>46</th>\n",
       "      <td>2011-12-31</td>\n",
       "      <td>4008.035311</td>\n",
       "    </tr>\n",
       "    <tr>\n",
       "      <th>47</th>\n",
       "      <td>2012-12-31</td>\n",
       "      <td>4120.291054</td>\n",
       "    </tr>\n",
       "    <tr>\n",
       "      <th>48</th>\n",
       "      <td>2013-12-31</td>\n",
       "      <td>4128.500818</td>\n",
       "    </tr>\n",
       "    <tr>\n",
       "      <th>49</th>\n",
       "      <td>2014-12-31</td>\n",
       "      <td>4223.177081</td>\n",
       "    </tr>\n",
       "    <tr>\n",
       "      <th>50</th>\n",
       "      <td>2015-12-31</td>\n",
       "      <td>4354.823310</td>\n",
       "    </tr>\n",
       "    <tr>\n",
       "      <th>51</th>\n",
       "      <td>2016-12-31</td>\n",
       "      <td>4367.980221</td>\n",
       "    </tr>\n",
       "    <tr>\n",
       "      <th>52</th>\n",
       "      <td>2017-12-31</td>\n",
       "      <td>4379.862350</td>\n",
       "    </tr>\n",
       "    <tr>\n",
       "      <th>53</th>\n",
       "      <td>2018-12-31</td>\n",
       "      <td>4474.326494</td>\n",
       "    </tr>\n",
       "  </tbody>\n",
       "</table>\n",
       "</div>"
      ],
      "text/plain": [
       "   Date(YY/MM/DD)  QoP(MMMbbl/yr)\n",
       "46     2011-12-31     4008.035311\n",
       "47     2012-12-31     4120.291054\n",
       "48     2013-12-31     4128.500818\n",
       "49     2014-12-31     4223.177081\n",
       "50     2015-12-31     4354.823310\n",
       "51     2016-12-31     4367.980221\n",
       "52     2017-12-31     4379.862350\n",
       "53     2018-12-31     4474.326494"
      ]
     },
     "execution_count": 21,
     "metadata": {},
     "output_type": "execute_result"
    }
   ],
   "source": [
    "#Lookup Qunatity of Production greater than 4,000MMMbbl/yr\n",
    "rev_oil_prod_df2[rev_oil_prod_df2['QoP(MMMbbl/yr)'] >= 4000]"
   ]
  },
  {
   "cell_type": "raw",
   "metadata": {},
   "source": [
    "### Visualsation Summary"
   ]
  },
  {
   "cell_type": "markdown",
   "metadata": {},
   "source": [
    "#### Plots of Yearly production of crude globally"
   ]
  },
  {
   "cell_type": "code",
   "execution_count": 23,
   "metadata": {},
   "outputs": [
    {
     "name": "stdout",
     "output_type": "stream",
     "text": [
      "Date(YY/MM/DD)     object\n",
      "QoP(MMMbbl/yr)    float64\n",
      "dtype: object\n"
     ]
    }
   ],
   "source": [
    "# check the data type to be plotted\n",
    "print(rev_oil_prod_df2.dtypes)"
   ]
  },
  {
   "cell_type": "code",
   "execution_count": 27,
   "metadata": {},
   "outputs": [],
   "source": [
    "# conver the date(yy/mm/dd) to a datw format \n",
    "rev_oil_prod_df2['Date(YY/MM/DD)']=pd.to_datetime(rev_oil_prod_df2['Date(YY/MM/DD)'])\n",
    "rev_oil_prod_df2.sort_values('Date(YY/MM/DD)', inplace=True)\n",
    "\n",
    "# assign the axis tobe plotted\n",
    "x=rev_oil_prod_df2['Date(YY/MM/DD)']\n",
    "y=rev_oil_prod_df2['QoP(MMMbbl/yr)']"
   ]
  },
  {
   "cell_type": "code",
   "execution_count": 34,
   "metadata": {},
   "outputs": [
    {
     "data": {
      "image/png": "[encoded data removed]",
      "text/plain": [
       "<Figure size 432x288 with 1 Axes>"
      ]
     },
     "metadata": {},
     "output_type": "display_data"
    },
    {
     "data": {
      "text/plain": [
       "<Figure size 720x1080 with 0 Axes>"
      ]
     },
     "metadata": {},
     "output_type": "display_data"
    }
   ],
   "source": [
    "#Line Plot\n",
    "plt.style.use('fivethirtyeight')\n",
    "plt.plot_date(x, y, color='y', linestyle='dashdot')\n",
    "plt.xlabel('Date')\n",
    "plt.ylabel('Yearly Price($)')\n",
    "plt.title('Yearly Production of All Crude')\n",
    "plt.gcf().autofmt_xdate()\n",
    "plt.tight_layout()\n",
    "plt.figure(figsize=(10, 15))\n",
    "plt.savefig(r'..\\images\\prod_yearly.png')\n",
    "plt.show()"
   ]
  },
  {
   "cell_type": "code",
   "execution_count": 41,
   "metadata": {},
   "outputs": [
    {
     "data": {
      "image/png": "[encoded data removed]",
      "text/plain": [
       "<Figure size 432x288 with 1 Axes>"
      ]
     },
     "metadata": {},
     "output_type": "display_data"
    },
    {
     "data": {
      "text/plain": [
       "<Figure size 720x1080 with 0 Axes>"
      ]
     },
     "metadata": {},
     "output_type": "display_data"
    }
   ],
   "source": [
    "# Bar Plot\n",
    "plt.style.use('fivethirtyeight')\n",
    "plt.bar(x, y, color='y', linestyle='dashdot')\n",
    "plt.xlabel('Date')\n",
    "plt.ylabel('Yearly QoP(MMMbl)')\n",
    "plt.title('Yearly Production of All Crude')\n",
    "plt.gcf().autofmt_xdate()\n",
    "plt.tight_layout()\n",
    "plt.figure(figsize=(10, 15))\n",
    "plt.savefig(r'..\\images\\prod_yearl-y2.png')\n",
    "plt.show()"
   ]
  },
  {
   "cell_type": "code",
   "execution_count": 42,
   "metadata": {},
   "outputs": [
    {
     "data": {
      "image/png": "[encoded data removed]",
      "text/plain": [
       "<Figure size 432x288 with 1 Axes>"
      ]
     },
     "metadata": {},
     "output_type": "display_data"
    },
    {
     "data": {
      "text/plain": [
       "<Figure size 720x1080 with 0 Axes>"
      ]
     },
     "metadata": {},
     "output_type": "display_data"
    }
   ],
   "source": [
    "# Area Plot\n",
    "# Bar Plot\n",
    "plt.style.use('fivethirtyeight')\n",
    "plt.stackplot(x, y, color='y', linestyle='dashdot')\n",
    "plt.xlabel('Date')\n",
    "plt.ylabel('Yearly QoP(MMMbl)')\n",
    "plt.title('Yearly Production of All Crude')\n",
    "plt.gcf().autofmt_xdate()\n",
    "plt.tight_layout()\n",
    "plt.figure(figsize=(10, 15))\n",
    "plt.savefig(r'..\\images\\prod_yearly-3.png')\n",
    "plt.show()"
   ]
  },
  {
   "cell_type": "code",
   "execution_count": 43,
   "metadata": {},
   "outputs": [
    {
     "data": {
      "image/png": "[encoded data removed]",
      "text/plain": [
       "<Figure size 432x288 with 1 Axes>"
      ]
     },
     "metadata": {},
     "output_type": "display_data"
    },
    {
     "data": {
      "text/plain": [
       "<Figure size 720x1080 with 0 Axes>"
      ]
     },
     "metadata": {},
     "output_type": "display_data"
    }
   ],
   "source": [
    "# Histogram Plot\n",
    "plt.style.use('fivethirtyeight')\n",
    "plt.hist(y, bins=10, edgecolor='y', linestyle='dashdot')\n",
    "plt.xlabel('Date')\n",
    "plt.ylabel('Yearly QoP(MMMbl)')\n",
    "plt.title('Yearly Production of All Crude')\n",
    "plt.tight_layout()\n",
    "plt.figure(figsize=(10, 15))\n",
    "plt.savefig(r'..\\images\\prod_yearly-4.png')\n",
    "plt.show()"
   ]
  },
  {
   "cell_type": "code",
   "execution_count": 45,
   "metadata": {},
   "outputs": [
    {
     "data": {
      "image/png": "[encoded data removed]",
      "text/plain": [
       "<Figure size 432x288 with 1 Axes>"
      ]
     },
     "metadata": {},
     "output_type": "display_data"
    },
    {
     "data": {
      "text/plain": [
       "<Figure size 720x1080 with 0 Axes>"
      ]
     },
     "metadata": {},
     "output_type": "display_data"
    }
   ],
   "source": [
    "# Histogram Plot-II\n",
    "plt.style.use('fivethirtyeight')\n",
    "bins=[1000, 2000, 3000, 4000]\n",
    "plt.hist(y, bins=bins, edgecolor='brown', linestyle='solid', log=True)\n",
    "\n",
    "median_price=2500\n",
    "color=\"#fe5f31\"\n",
    "plt.axvline(median_price, color=color, label='Median Price')\n",
    "\n",
    "plt.xlabel('Yearly QoP(MMMbl)')\n",
    "plt.ylabel('Frequency')\n",
    "plt.title('Yearly Production of all Crude')\n",
    "plt.tight_layout()\n",
    "plt.figure(figsize=(10, 15))\n",
    "plt.savefig(r'..\\images\\prod_yearly-5.png')\n",
    "plt.show()"
   ]
  },
  {
   "cell_type": "code",
   "execution_count": 46,
   "metadata": {},
   "outputs": [
    {
     "data": {
      "image/png": "[encoded data removed]",
      "text/plain": [
       "<Figure size 576x396 with 2 Axes>"
      ]
     },
     "metadata": {},
     "output_type": "display_data"
    },
    {
     "data": {
      "text/plain": [
       "<Figure size 720x1080 with 0 Axes>"
      ]
     },
     "metadata": {},
     "output_type": "display_data"
    }
   ],
   "source": [
    "# Scatter Plot\n",
    "\n",
    "plt.style.use('seaborn')\n",
    "plt.scatter(x, y, edgecolor='black', alpha=0.75, \n",
    "            cmap='Greens', linewidth=1, marker='X')\n",
    "\n",
    "cbar=plt.colorbar()\n",
    "cbar.set_label('Production')\n",
    "\n",
    "plt.xscale('log')\n",
    "plt.yscale('log')\n",
    "plt.xlabel('Date')\n",
    "plt.ylabel('Yearly QoP(MMMbl)')\n",
    "plt.title('Yearly Production of all Crude')\n",
    "plt.tight_layout()\n",
    "plt.figure(figsize=(10, 15))\n",
    "plt.savefig(r'..\\images\\prod_yearly-6.png')\n",
    "plt.show()"
   ]
  },
  {
   "cell_type": "markdown",
   "metadata": {},
   "source": [
    "### Mathematical Operations"
   ]
  },
  {
   "cell_type": "code",
   "execution_count": 48,
   "metadata": {},
   "outputs": [
    {
     "data": {
      "text/html": [
       "<div>\n",
       "<style scoped>\n",
       "    .dataframe tbody tr th:only-of-type {\n",
       "        vertical-align: middle;\n",
       "    }\n",
       "\n",
       "    .dataframe tbody tr th {\n",
       "        vertical-align: top;\n",
       "    }\n",
       "\n",
       "    .dataframe thead th {\n",
       "        text-align: right;\n",
       "    }\n",
       "</style>\n",
       "<table border=\"1\" class=\"dataframe\">\n",
       "  <thead>\n",
       "    <tr style=\"text-align: right;\">\n",
       "      <th></th>\n",
       "      <th>QoP(MMMbbl/yr)</th>\n",
       "    </tr>\n",
       "  </thead>\n",
       "  <tbody>\n",
       "    <tr>\n",
       "      <th>count</th>\n",
       "      <td>54.000000</td>\n",
       "    </tr>\n",
       "    <tr>\n",
       "      <th>mean</th>\n",
       "      <td>3258.213916</td>\n",
       "    </tr>\n",
       "    <tr>\n",
       "      <th>std</th>\n",
       "      <td>702.349689</td>\n",
       "    </tr>\n",
       "    <tr>\n",
       "      <th>min</th>\n",
       "      <td>1567.587268</td>\n",
       "    </tr>\n",
       "    <tr>\n",
       "      <th>25%</th>\n",
       "      <td>2877.365081</td>\n",
       "    </tr>\n",
       "    <tr>\n",
       "      <th>50%</th>\n",
       "      <td>3192.560595</td>\n",
       "    </tr>\n",
       "    <tr>\n",
       "      <th>75%</th>\n",
       "      <td>3898.068218</td>\n",
       "    </tr>\n",
       "    <tr>\n",
       "      <th>max</th>\n",
       "      <td>4474.326494</td>\n",
       "    </tr>\n",
       "  </tbody>\n",
       "</table>\n",
       "</div>"
      ],
      "text/plain": [
       "       QoP(MMMbbl/yr)\n",
       "count       54.000000\n",
       "mean      3258.213916\n",
       "std        702.349689\n",
       "min       1567.587268\n",
       "25%       2877.365081\n",
       "50%       3192.560595\n",
       "75%       3898.068218\n",
       "max       4474.326494"
      ]
     },
     "execution_count": 48,
     "metadata": {},
     "output_type": "execute_result"
    }
   ],
   "source": [
    "# describe the yealy dataset\n",
    "rev_oil_prod_df2.describe()"
   ]
  },
  {
   "cell_type": "code",
   "execution_count": 49,
   "metadata": {},
   "outputs": [
    {
     "data": {
      "text/plain": [
       "3258.2139156601847"
      ]
     },
     "execution_count": 49,
     "metadata": {},
     "output_type": "execute_result"
    }
   ],
   "source": [
    "# Mean of Yearly Production of Crude\n",
    "rev_oil_prod_df2['QoP(MMMbbl/yr)'].mean()"
   ]
  },
  {
   "cell_type": "code",
   "execution_count": 50,
   "metadata": {},
   "outputs": [
    {
     "name": "stdout",
     "output_type": "stream",
     "text": [
      "4474.3264942000005\n",
      "1567.58726831\n"
     ]
    }
   ],
   "source": [
    "# Max and Min Value of Yearly Production of Crude\n",
    "max_yearly = rev_oil_prod_df2['QoP(MMMbbl/yr)'].max()\n",
    "print(max_yearly)\n",
    "\n",
    "min_yearly = rev_oil_prod_df2['QoP(MMMbbl/yr)'].min()\n",
    "print(min_yearly)"
   ]
  },
  {
   "cell_type": "markdown",
   "metadata": {},
   "source": [
    "### Inferences and Recommendation"
   ]
  },
  {
   "cell_type": "markdown",
   "metadata": {},
   "source": [
    "[Click here to read from this file]('https://wwww.google.drive')"
   ]
  },
  {
   "cell_type": "markdown",
   "metadata": {},
   "source": [
    "### Created by **@chisomloius**"
   ]
  }
 ],
 "metadata": {
  "kernelspec": {
   "display_name": "Python 3",
   "language": "python",
   "name": "python3"
  },
  "language_info": {
   "codemirror_mode": {
    "name": "ipython",
    "version": 3
   },
   "file_extension": ".py",
   "mimetype": "text/x-python",
   "name": "python",
   "nbconvert_exporter": "python",
   "pygments_lexer": "ipython3",
   "version": "3.8.3"
  }
 },
 "nbformat": 4,
 "nbformat_minor": 4
}
