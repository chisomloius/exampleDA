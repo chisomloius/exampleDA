{
 "cells": [
  {
   "cell_type": "markdown",
   "id": "8918402a-595a-4c47-8916-7c416a303cb4",
   "metadata": {},
   "source": [
    "![logo.png](image/logo.png)\n",
    "# Intro\n",
    "\n",
    "### You can access this notebook on: \n",
    "[colab](https://colab.com/VIZ/), [github](https://github.com/chisomloius/iLearnVIZ/), [kaggle](https://kaggle.com/chisomloius/ilearnVIZ/), [medium](https://medium.com/@chisomloius/ilearnVIZ/), [web](https://chisomloius.github.io), [zindi](https://zindi.com/@chisomloius/ilearnVIZ/)"
   ]
  },
  {
   "cell_type": "markdown",
   "id": "6ab343ca-af4e-403b-990a-37b75a650798",
   "metadata": {},
   "source": [
    "# Table of Contents\n",
    "\n",
    "### Click on the links to go directly to specific sections on  the notebook.\n",
    "\n",
    "\n",
    "1. [Import Dependencies](#dependencies)\n",
    "<br>\n",
    "2. [Matplotlib Docs](#docs)\n",
    "<br>\n",
    "3. [Line Graph](#line-graph)\n",
    "<br>\n",
    "4. [Assignment Link](#assignment-link)\n",
    "<br>\n",
    "5. [After Thoughts](#after-thoughts)\n",
    "<br> \n",
    "6. [About Author](#about)\n",
    "<br> \n",
    "7. [More Info](#more-info)\n",
    "<br>\n",
    "<p>Estimated time needed: <strong>25 mi</strong></p>\n",
    "\n",
    "----"
   ]
  },
  {
   "cell_type": "markdown",
   "id": "ea1b6062-249d-4ffd-b8d1-ba44770b41fc",
   "metadata": {},
   "source": [
    "#### Matplotlib - Let's get you writing some visualisation code now!</h1>\n",
    "<p><strong>Welcome!</strong> This notebook will teach you the basics of the Python programming package, Matplotlib. Although the information presented here is quite basic, it is an important foundation that will help you read and write Python code. By the end of this notebook, you'll know the basics of matplotlib, including how to write basic commands, understand basic lines, and how to perform simple operations on them.</p> "
   ]
  },
  {
   "cell_type": "markdown",
   "id": "76387ac8-97bf-4bbf-9994-405da8216fbf",
   "metadata": {},
   "source": [
    "<div class=\"alert alert-block alert-info\" style=\"margin-top: 20px\">\n",
    "<a id='dependencies'></a>\n",
    "    \n",
    "### Import Dependencies \n",
    "</div>"
   ]
  },
  {
   "cell_type": "code",
   "execution_count": 1,
   "id": "1b162edf-0ca0-428c-b065-0fdd5b879152",
   "metadata": {},
   "outputs": [],
   "source": [
    "import matplotlib.pyplot as plt"
   ]
  },
  {
   "cell_type": "markdown",
   "id": "eab23271-441e-4e84-a657-c9101a590a0a",
   "metadata": {},
   "source": [
    "<div class=\"alert alert-block alert-info\" style=\"margin-top: 20px\">\n",
    "<a id='docs'></a>\n",
    "    \n",
    "### Matplotlib Docs\n",
    "</div>"
   ]
  },
  {
   "cell_type": "markdown",
   "id": "9bcab591-2ce0-47a6-8bf0-ed0ebbe8f5a3",
   "metadata": {},
   "source": [
    "You can access it [here](www.matplotlib)"
   ]
  },
  {
   "cell_type": "markdown",
   "id": "fa3eb4f5-70f7-4485-9a00-7f8979009b51",
   "metadata": {},
   "source": [
    "<div class=\"alert alert-block alert-info\" style=\"margin-top: 20px\">\n",
    "<a id='line-graph'></a>\n",
    "    \n",
    "### Line Graphs\n",
    "</div>"
   ]
  },
  {
   "cell_type": "markdown",
   "id": "8ac97f0e-31ef-4ae6-8e3b-28384f39e868",
   "metadata": {},
   "source": [
    "Use plt.plot() to build a line plot.x should be mapped on the horizontal axis, y on the vertical axis. \n",
    "Don't forget to finish off with the plt.show() function to actually display the plot."
   ]
  },
  {
   "cell_type": "code",
   "execution_count": null,
   "id": "fce047cc-4c30-4529-abe0-87834913c83d",
   "metadata": {},
   "outputs": [],
   "source": []
  },
  {
   "cell_type": "code",
   "execution_count": null,
   "id": "462bc0a1-ae21-4e57-97a5-eff678d65c15",
   "metadata": {},
   "outputs": [],
   "source": []
  },
  {
   "cell_type": "markdown",
   "id": "0351dc7a-7b81-40e9-9ea5-34d4e0acafed",
   "metadata": {},
   "source": [
    "<div class=\"alert alert-block alert-info\" style=\"margin-top: 20px\">\n",
    "<a id='assignment-link'></a>\n",
    "\n",
    "### Assignment Link\n",
    "</div>"
   ]
  },
  {
   "cell_type": "markdown",
   "id": "de911065-8813-45e0-968b-e032a278dd66",
   "metadata": {},
   "source": [
    "Now we would try out some practical examples with what we have learnt so far ! Let us try out this [notebook](../projectbooks/1.Intro_to_Python.ipynb)"
   ]
  },
  {
   "cell_type": "markdown",
   "id": "d76310e0-4d2d-424c-a4dc-cbe5c6e13417",
   "metadata": {},
   "source": [
    "<div class=\"alert alert-block alert-info\" style=\"margin-top: 20px\">\n",
    "<a id='after-thoughts'></a>\n",
    "    \n",
    "### After Thoughts ??\n",
    "</div>"
   ]
  },
  {
   "cell_type": "markdown",
   "id": "3d793299-e3ce-4b84-abf0-3ed72b62e31f",
   "metadata": {},
   "source": [
    "Is it easy so far and what are you already dreaming of?"
   ]
  },
  {
   "cell_type": "markdown",
   "id": "6feea2c0-8c5b-4c10-a643-36bb9734eab6",
   "metadata": {},
   "source": [
    "<div class=\"alert alert-block alert-info\" style=\"margin-top: 20px\">\n",
    "<a id='about'></a>\n",
    "    \n",
    "### About this Instructor:\n",
    "</div>\n",
    "<p><a href=\"https://github.com/chisomloius/\" target= \"_blank\"> ChisomLoius</a> is very passionate about Data Analysis and Machine Learning and does lot of free lance teaching and learning. Holding a B.Eng. in Petroleum Engineering, my focused is leveraging the knowledge of Data Science and Machine Learning to help build solutions in Education and High Tech Security. I currently work as a Petrochemist.\n",
    "</p>"
   ]
  },
  {
   "cell_type": "markdown",
   "id": "a604b4ab-0d00-4c31-aaeb-aa0436439558",
   "metadata": {},
   "source": [
    "<p> Visit our <a href=\"https://chisomloius.io\" target= \"_blank\">website</a>, or further enquire more information via our <a href=\"talks@chisomloius.io\" target= \"_blank\">email</a>. \n",
    "<hr>\n",
    "<p>Copyright &copy; 2022 Chisom. This notebook and its source code are released under the terms of the <a href=\"https://cognitiveclass.ai/mit-license/\">MIT License</a>.</p>"
   ]
  },
  {
   "cell_type": "code",
   "execution_count": null,
   "id": "3d3e8dee-7672-44ea-a180-38fc5b20b40f",
   "metadata": {},
   "outputs": [],
   "source": []
  }
 ],
 "metadata": {
  "kernelspec": {
   "display_name": "Python 3 (ipykernel)",
   "language": "python",
   "name": "python3"
  },
  "language_info": {
   "codemirror_mode": {
    "name": "ipython",
    "version": 3
   },
   "file_extension": ".py",
   "mimetype": "text/x-python",
   "name": "python",
   "nbconvert_exporter": "python",
   "pygments_lexer": "ipython3",
   "version": "3.8.3"
  }
 },
 "nbformat": 4,
 "nbformat_minor": 5
}
